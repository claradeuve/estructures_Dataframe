{
 "cells": [
  {
   "cell_type": "markdown",
   "id": "36fff3bf",
   "metadata": {},
   "source": [
    "## Exercici 1\n",
    "Descarrega el data set Airlines Delay: Airline on-time statistics and delay causes i carrega’l a un pandas Dataframe. Explora les dades que conté, i queda’t únicament amb les columnes que consideris rellevants."
   ]
  },
  {
   "cell_type": "code",
   "execution_count": 13,
   "id": "92ac543d",
   "metadata": {},
   "outputs": [
    {
     "name": "stderr",
     "output_type": "stream",
     "text": [
      "/Users/claradv/opt/anaconda3/lib/python3.9/site-packages/IPython/core/interactiveshell.py:3444: DtypeWarning: Columns (1,2,3,4,5,6,7,8,10,12,13,14,15,16,19,20,21,22,24,25,26,27,28,29) have mixed types.Specify dtype option on import or set low_memory=False.\n",
      "  exec(code_obj, self.user_global_ns, self.user_ns)\n"
     ]
    },
    {
     "name": "stdout",
     "output_type": "stream",
     "text": [
      "               0     1      2           3          4        5           6   \\\n",
      "0             NaN  Year  Month  DayofMonth  DayOfWeek  DepTime  CRSDepTime   \n",
      "1             0.0  2008      1           3          4   2003.0        1955   \n",
      "2             1.0  2008      1           3          4    754.0         735   \n",
      "3             2.0  2008      1           3          4    628.0         620   \n",
      "4             4.0  2008      1           3          4   1829.0        1755   \n",
      "...           ...   ...    ...         ...        ...      ...         ...   \n",
      "799995  2655507.0  2008      5           9          5   1320.0        1310   \n",
      "799996  2655508.0  2008      5           9          5   1508.0        1435   \n",
      "799997  2655509.0  2008      5           9          5   1758.0        1745   \n",
      "799998  2655514.0  2008      5           9          5    711.0         640   \n",
      "799999  2655515.0  2008      5           9          5   1631.0        1610   \n",
      "\n",
      "             7           8              9   ...      20       21         22  \\\n",
      "0       ArrTime  CRSArrTime  UniqueCarrier  ...  TaxiIn  TaxiOut  Cancelled   \n",
      "1        2211.0        2225             WN  ...     4.0      8.0          0   \n",
      "2        1002.0        1000             WN  ...     5.0     10.0          0   \n",
      "3         804.0         750             WN  ...     3.0     17.0          0   \n",
      "4        1959.0        1925             WN  ...     3.0     10.0          0   \n",
      "...         ...         ...            ...  ...     ...      ...        ...   \n",
      "799995   1604.0        1455             US  ...     8.0     89.0          0   \n",
      "799996   1703.0        1620             US  ...     4.0     29.0          0   \n",
      "799997   2009.0        1927             US  ...     6.0     39.0          0   \n",
      "799998    850.0         818             US  ...    11.0     14.0          0   \n",
      "799999   1832.0        1753             US  ...     8.0     20.0          0   \n",
      "\n",
      "                      23        24            25            26        27  \\\n",
      "0       CancellationCode  Diverted  CarrierDelay  WeatherDelay  NASDelay   \n",
      "1                      N         0           NaN           NaN       NaN   \n",
      "2                      N         0           NaN           NaN       NaN   \n",
      "3                      N         0           NaN           NaN       NaN   \n",
      "4                      N         0           2.0           0.0       0.0   \n",
      "...                  ...       ...           ...           ...       ...   \n",
      "799995                 N         0           0.0           0.0      69.0   \n",
      "799996                 N         0           0.0           0.0      43.0   \n",
      "799997                 N         0           0.0           0.0      42.0   \n",
      "799998                 N         0          31.0           0.0       1.0   \n",
      "799999                 N         0           0.0           0.0      29.0   \n",
      "\n",
      "                   28                 29  \n",
      "0       SecurityDelay  LateAircraftDelay  \n",
      "1                 NaN                NaN  \n",
      "2                 NaN                NaN  \n",
      "3                 NaN                NaN  \n",
      "4                 0.0               32.0  \n",
      "...               ...                ...  \n",
      "799995            0.0                0.0  \n",
      "799996            0.0                0.0  \n",
      "799997            0.0                0.0  \n",
      "799998            0.0                0.0  \n",
      "799999            0.0               10.0  \n",
      "\n",
      "[800000 rows x 30 columns]\n",
      "Int64Index([ 0,  1,  2,  3,  4,  5,  6,  7,  8,  9, 10, 11, 12, 13, 14, 15, 16,\n",
      "            17, 18, 19, 20, 21, 22, 23, 24, 25, 26, 27, 28, 29],\n",
      "           dtype='int64')\n",
      "Index([                nan,              'Year',             'Month',\n",
      "              'DayofMonth',         'DayOfWeek',           'DepTime',\n",
      "              'CRSDepTime',           'ArrTime',        'CRSArrTime',\n",
      "           'UniqueCarrier',         'FlightNum',           'TailNum',\n",
      "       'ActualElapsedTime',    'CRSElapsedTime',           'AirTime',\n",
      "                'ArrDelay',          'DepDelay',            'Origin',\n",
      "                    'Dest',          'Distance',            'TaxiIn',\n",
      "                 'TaxiOut',         'Cancelled',  'CancellationCode',\n",
      "                'Diverted',      'CarrierDelay',      'WeatherDelay',\n",
      "                'NASDelay',     'SecurityDelay', 'LateAircraftDelay'],\n",
      "      dtype='object', name=0)\n",
      "0      Month DayOfWeek ArrDelay DepDelay CarrierDelay WeatherDelay NASDelay  \\\n",
      "1          1         4    -14.0      8.0          NaN          NaN      NaN   \n",
      "2          1         4      2.0     19.0          NaN          NaN      NaN   \n",
      "3          1         4     14.0      8.0          NaN          NaN      NaN   \n",
      "4          1         4     34.0     34.0          2.0          0.0      0.0   \n",
      "5          1         4     11.0     25.0          NaN          NaN      NaN   \n",
      "...      ...       ...      ...      ...          ...          ...      ...   \n",
      "799995     5         5     69.0     10.0          0.0          0.0     69.0   \n",
      "799996     5         5     43.0     33.0          0.0          0.0     43.0   \n",
      "799997     5         5     42.0     13.0          0.0          0.0     42.0   \n",
      "799998     5         5     32.0     31.0         31.0          0.0      1.0   \n",
      "799999     5         5     39.0     21.0          0.0          0.0     29.0   \n",
      "\n",
      "0      SecurityDelay LateAircraftDelay Origin Dest Distance AirTime  \\\n",
      "1                NaN               NaN    IAD  TPA      810   116.0   \n",
      "2                NaN               NaN    IAD  TPA      810   113.0   \n",
      "3                NaN               NaN    IND  BWI      515    76.0   \n",
      "4                0.0              32.0    IND  BWI      515    77.0   \n",
      "5                NaN               NaN    IND  JAX      688    87.0   \n",
      "...              ...               ...    ...  ...      ...     ...   \n",
      "799995           0.0               0.0    CLT  PHL      448    67.0   \n",
      "799996           0.0               0.0    CLT  PHL      448    82.0   \n",
      "799997           0.0               0.0    CLT  PHL      448    86.0   \n",
      "799998           0.0               0.0    CLT  PHL      448    74.0   \n",
      "799999           0.0              10.0    CLT  PHL      448    93.0   \n",
      "\n",
      "0      UniqueCarrier  \n",
      "1                 WN  \n",
      "2                 WN  \n",
      "3                 WN  \n",
      "4                 WN  \n",
      "5                 WN  \n",
      "...              ...  \n",
      "799995            US  \n",
      "799996            US  \n",
      "799997            US  \n",
      "799998            US  \n",
      "799999            US  \n",
      "\n",
      "[799999 rows x 14 columns]\n"
     ]
    }
   ],
   "source": [
    "import pandas as pd\n",
    "\n",
    "df = pd.read_csv(\"DelayedFlights.csv\", header=None, nrows=800000)\n",
    "print(df)\n",
    "print(df.columns)\n",
    "\n",
    "df.columns = df.iloc[0]\n",
    "df = df.iloc[1: , :]\n",
    "print(df.columns)\n",
    "\n",
    "df_seleccio = df[['Month', 'DayOfWeek', 'ArrDelay', 'DepDelay', 'CarrierDelay', 'WeatherDelay', 'NASDelay', 'SecurityDelay', 'LateAircraftDelay', 'Origin', 'Dest', 'Distance', 'AirTime','UniqueCarrier']]\n",
    "print(df_seleccio)\n",
    "\n",
    "# Mostreig\n",
    "df_seleccio = df_seleccio.sample(n=50)"
   ]
  },
  {
   "cell_type": "markdown",
   "id": "2cc39ea3",
   "metadata": {},
   "source": [
    "## Exercici 2\n",
    "Fes un informe complet del data set:\n",
    "\n",
    "- Resumeix estadísticament les columnes d’interès\n",
    "- Troba quantes dades faltants hi ha per columna\n",
    "- Crea columnes noves (velocitat mitjana del vol, si ha arribat tard o no...)\n",
    "- Taula de les aerolínies amb més endarreriments acumulats\n",
    "- Quins són els vols més llargs? I els més endarrerits?\n",
    "- Etc."
   ]
  },
  {
   "cell_type": "markdown",
   "id": "b3f151d2",
   "metadata": {},
   "source": [
    "**Dades faltants per columna**"
   ]
  },
  {
   "cell_type": "code",
   "execution_count": 14,
   "id": "f29a1cbe",
   "metadata": {},
   "outputs": [
    {
     "name": "stdout",
     "output_type": "stream",
     "text": [
      "Columna: Month\n",
      "Dades faltants: 0 \n",
      "\n",
      "Columna: DayOfWeek\n",
      "Dades faltants: 0 \n",
      "\n",
      "Columna: ArrDelay\n",
      "Dades faltants: 1 \n",
      "\n",
      "Columna: DepDelay\n",
      "Dades faltants: 0 \n",
      "\n",
      "Columna: CarrierDelay\n",
      "Dades faltants: 18 \n",
      "\n",
      "Columna: WeatherDelay\n",
      "Dades faltants: 18 \n",
      "\n",
      "Columna: NASDelay\n",
      "Dades faltants: 18 \n",
      "\n",
      "Columna: SecurityDelay\n",
      "Dades faltants: 18 \n",
      "\n",
      "Columna: LateAircraftDelay\n",
      "Dades faltants: 18 \n",
      "\n",
      "Columna: Origin\n",
      "Dades faltants: 0 \n",
      "\n",
      "Columna: Dest\n",
      "Dades faltants: 0 \n",
      "\n",
      "Columna: Distance\n",
      "Dades faltants: 0 \n",
      "\n",
      "Columna: AirTime\n",
      "Dades faltants: 1 \n",
      "\n",
      "Columna: UniqueCarrier\n",
      "Dades faltants: 0 \n",
      "\n"
     ]
    }
   ],
   "source": [
    "import numpy as np\n",
    "\n",
    "for column in df_seleccio:\n",
    "    print('Columna:', column)\n",
    "    print('Dades faltants:', df_seleccio[column].isna().sum(), '\\n')\n",
    "    # substiteixo els Nan per zeros per a poder operar amb aquests valors més endavant\n",
    "    df_seleccio.loc[:, column] = df_seleccio[column].fillna(0)"
   ]
  },
  {
   "cell_type": "markdown",
   "id": "150d17bc",
   "metadata": {},
   "source": [
    "**Canviar data type per a determinades columnes i així poder fer càlculs**"
   ]
  },
  {
   "cell_type": "code",
   "execution_count": 15,
   "id": "0fea2c63",
   "metadata": {},
   "outputs": [],
   "source": [
    "df_seleccio.loc[:,'ArrDelay'] = df_seleccio['ArrDelay'].astype(float).astype(int)\n",
    "df_seleccio.loc[:,'DepDelay'] = df_seleccio['DepDelay'].astype(float).astype(int)\n",
    "df_seleccio.loc[:,'CarrierDelay'] = df_seleccio['CarrierDelay'].astype(float).astype(int)\n",
    "df_seleccio.loc[:,'WeatherDelay'] = df_seleccio['WeatherDelay'].astype(float).astype(int)\n",
    "df_seleccio.loc[:,'NASDelay'] = df_seleccio['NASDelay'].astype(float).astype(int)\n",
    "df_seleccio.loc[:,'SecurityDelay'] = df_seleccio['SecurityDelay'].astype(float).astype(int)\n",
    "df_seleccio.loc[:,'LateAircraftDelay'] = df_seleccio['LateAircraftDelay'].astype(float).astype(int)\n",
    "df_seleccio.loc[:,'Distance'] = df_seleccio['Distance'].astype(float).round(2)\n",
    "df_seleccio.loc[:,'AirTime'] = df_seleccio['AirTime'].astype(float).astype(int)\n"
   ]
  },
  {
   "cell_type": "markdown",
   "id": "4bb0093e",
   "metadata": {},
   "source": [
    "**Resum stadístic**"
   ]
  },
  {
   "cell_type": "code",
   "execution_count": 16,
   "id": "3562eea8",
   "metadata": {},
   "outputs": [
    {
     "name": "stdout",
     "output_type": "stream",
     "text": [
      "count     50\n",
      "unique     6\n",
      "top        2\n",
      "freq      18\n",
      "Name: Month, dtype: int64 \n",
      "\n",
      "count     50\n",
      "unique    10\n",
      "top        3\n",
      "freq      10\n",
      "Name: DayOfWeek, dtype: int64 \n",
      "\n",
      "count     50.000000\n",
      "mean      40.620000\n",
      "std       41.669198\n",
      "min       -6.000000\n",
      "25%       10.250000\n",
      "50%       26.500000\n",
      "75%       60.750000\n",
      "max      168.000000\n",
      "Name: ArrDelay, dtype: float64 \n",
      "\n",
      "count     50.000000\n",
      "mean      43.600000\n",
      "std       44.192067\n",
      "min        6.000000\n",
      "25%       12.000000\n",
      "50%       24.000000\n",
      "75%       57.000000\n",
      "max      189.000000\n",
      "Name: DepDelay, dtype: float64 \n",
      "\n",
      "count     50.000000\n",
      "mean       9.800000\n",
      "std       20.189915\n",
      "min        0.000000\n",
      "25%        0.000000\n",
      "50%        0.000000\n",
      "75%        8.500000\n",
      "max      109.000000\n",
      "Name: CarrierDelay, dtype: float64 \n",
      "\n",
      "count    50.000000\n",
      "mean      0.100000\n",
      "std       0.707107\n",
      "min       0.000000\n",
      "25%       0.000000\n",
      "50%       0.000000\n",
      "75%       0.000000\n",
      "max       5.000000\n",
      "Name: WeatherDelay, dtype: float64 \n",
      "\n",
      "count    50.000000\n",
      "mean      6.340000\n",
      "std      16.813029\n",
      "min       0.000000\n",
      "25%       0.000000\n",
      "50%       0.000000\n",
      "75%       1.000000\n",
      "max      90.000000\n",
      "Name: NASDelay, dtype: float64 \n",
      "\n",
      "count    50.0\n",
      "mean      0.0\n",
      "std       0.0\n",
      "min       0.0\n",
      "25%       0.0\n",
      "50%       0.0\n",
      "75%       0.0\n",
      "max       0.0\n",
      "Name: SecurityDelay, dtype: float64 \n",
      "\n",
      "count     50.00000\n",
      "mean      22.54000\n",
      "std       40.02306\n",
      "min        0.00000\n",
      "25%        0.00000\n",
      "50%        0.00000\n",
      "75%       25.75000\n",
      "max      163.00000\n",
      "Name: LateAircraftDelay, dtype: float64 \n",
      "\n",
      "count      50\n",
      "unique     33\n",
      "top       BOS\n",
      "freq        3\n",
      "Name: Origin, dtype: object \n",
      "\n",
      "count      50\n",
      "unique     39\n",
      "top       SFO\n",
      "freq        2\n",
      "Name: Dest, dtype: object \n",
      "\n",
      "count      50.000000\n",
      "mean      720.560000\n",
      "std       580.952672\n",
      "min        78.000000\n",
      "25%       294.000000\n",
      "50%       597.000000\n",
      "75%       919.000000\n",
      "max      2534.000000\n",
      "Name: Distance, dtype: float64 \n",
      "\n",
      "count     50.000000\n",
      "mean     102.640000\n",
      "std       73.360101\n",
      "min        0.000000\n",
      "25%       50.000000\n",
      "50%       84.000000\n",
      "75%      132.000000\n",
      "max      338.000000\n",
      "Name: AirTime, dtype: float64 \n",
      "\n",
      "count     50\n",
      "unique    17\n",
      "top       WN\n",
      "freq      10\n",
      "Name: UniqueCarrier, dtype: object \n",
      "\n"
     ]
    }
   ],
   "source": [
    "for column in df_seleccio:\n",
    "    print(df_seleccio[column].describe(), \"\\n\")"
   ]
  },
  {
   "cell_type": "markdown",
   "id": "2850f8f4",
   "metadata": {},
   "source": [
    "**Crear columnas nuevas**"
   ]
  },
  {
   "cell_type": "code",
   "execution_count": 17,
   "id": "ee979be2",
   "metadata": {},
   "outputs": [],
   "source": [
    "df_seleccio.loc[:,'TotalDelay'] = df_seleccio['ArrDelay'] + df_seleccio['DepDelay'] + df_seleccio['CarrierDelay'] + df_seleccio['WeatherDelay'] + df_seleccio['NASDelay'] + df_seleccio['SecurityDelay'] + df_seleccio['LateAircraftDelay']\n",
    "df_seleccio.loc[:,'AverageSpeed'] = (df_seleccio['Distance'] / df_seleccio['AirTime']).round(2)\n",
    "df_seleccio.loc[:,'Delayed'] = np.where(df_seleccio['TotalDelay'] > 0, True, False)"
   ]
  },
  {
   "cell_type": "markdown",
   "id": "868546aa",
   "metadata": {},
   "source": [
    "**Taula de les aerolínies amb més endarreriments acumulats**"
   ]
  },
  {
   "cell_type": "code",
   "execution_count": 18,
   "id": "9b95b9f6",
   "metadata": {},
   "outputs": [
    {
     "name": "stdout",
     "output_type": "stream",
     "text": [
      "   UniqueCarrier  NumDelays\n",
      "14            WN         10\n",
      "1             AA          5\n",
      "11            OO          5\n"
     ]
    }
   ],
   "source": [
    "aerolinies_amb_mes_endarreriments = df_seleccio.groupby(['UniqueCarrier']).size().reset_index(name='NumDelays')\n",
    "aerolinies_amb_mes_endarreriments = aerolinies_amb_mes_endarreriments.sort_values(by=['NumDelays'], ascending=False).head(3)\n",
    "print(aerolinies_amb_mes_endarreriments)"
   ]
  },
  {
   "cell_type": "markdown",
   "id": "e5a13ee7",
   "metadata": {},
   "source": [
    "**Vols més llargs**"
   ]
  },
  {
   "cell_type": "code",
   "execution_count": 19,
   "id": "91dcda0a",
   "metadata": {},
   "outputs": [
    {
     "name": "stdout",
     "output_type": "stream",
     "text": [
      "       Origin Dest  Duration\n",
      "368690    EWR  SAN       338\n",
      "353506    PDX  MCO       303\n",
      "362830    LAS  EWR       255\n"
     ]
    }
   ],
   "source": [
    "data = [df_seleccio[\"Origin\"], df_seleccio[\"Dest\"], df_seleccio[\"AirTime\"]]\n",
    "headers = [\"Origin\", \"Dest\", \"Duration\"]\n",
    "vols = pd.concat(data, axis=1, keys=headers)\n",
    "vols_mes_llargs = vols.sort_values(by=['Duration'], ascending=False).head(3)\n",
    "print(vols_mes_llargs)"
   ]
  },
  {
   "cell_type": "markdown",
   "id": "0c0e3cca",
   "metadata": {},
   "source": [
    "**Vols més endarrerits**"
   ]
  },
  {
   "cell_type": "code",
   "execution_count": 20,
   "id": "50c59042",
   "metadata": {},
   "outputs": [
    {
     "name": "stdout",
     "output_type": "stream",
     "text": [
      "       Origin Dest  Delay\n",
      "742722    PHL  STL    525\n",
      "19503     SJC  PHX    416\n",
      "491587    ATL  STL    355\n"
     ]
    }
   ],
   "source": [
    "data = [df_seleccio[\"Origin\"], df_seleccio[\"Dest\"], df_seleccio[\"TotalDelay\"]]\n",
    "headers = [\"Origin\", \"Dest\", \"Delay\"]\n",
    "vols = pd.concat(data, axis=1, keys=headers)\n",
    "vols_mes_endarrerits = vols.sort_values(by=['Delay'], ascending=False).head(3)\n",
    "print(vols_mes_endarrerits)"
   ]
  },
  {
   "cell_type": "markdown",
   "id": "39247efc",
   "metadata": {},
   "source": [
    "**Mesos amb més endarreriments**"
   ]
  },
  {
   "cell_type": "code",
   "execution_count": 21,
   "id": "a370ef5d",
   "metadata": {},
   "outputs": [
    {
     "name": "stdout",
     "output_type": "stream",
     "text": [
      "  Month  NumDelays\n",
      "1   Feb         18\n",
      "2   Mar         11\n",
      "0   Jan          6\n"
     ]
    }
   ],
   "source": [
    "mesos_amb_mes_endarreriments = df_seleccio.groupby(['Month']).size().reset_index(name='NumDelays')\n",
    "mesos_amb_mes_endarreriments.loc[:,'Month'] = pd.to_datetime(mesos_amb_mes_endarreriments['Month'], format='%m').dt.month_name().str.slice(stop=3)\n",
    "mesos_amb_mes_endarreriments = mesos_amb_mes_endarreriments.sort_values(by=['NumDelays'], ascending=False).head(3)\n",
    "print(mesos_amb_mes_endarreriments)"
   ]
  },
  {
   "cell_type": "markdown",
   "id": "30d46ba4",
   "metadata": {},
   "source": [
    "**Causes d'endarreriment més freqüents**"
   ]
  },
  {
   "cell_type": "code",
   "execution_count": 22,
   "id": "97623d7e",
   "metadata": {},
   "outputs": [
    {
     "name": "stdout",
     "output_type": "stream",
     "text": [
      "DepDelay        50\n",
      "ArrDelay        45\n",
      "CarrierDelay    20\n",
      "dtype: int64\n"
     ]
    }
   ],
   "source": [
    "data = df_seleccio['ArrDelay'], df_seleccio['DepDelay'], df_seleccio['CarrierDelay'], df_seleccio['WeatherDelay'], df_seleccio['NASDelay'], df_seleccio['SecurityDelay'], df_seleccio['LateAircraftDelay']\n",
    "headers = [\"ArrDelay\", \"DepDelay\", \"CarrierDelay\", 'WeatherDelay', 'NASDelay', 'SecurityDelay', 'LateAircraftDelay']\n",
    "causas = pd.concat(data, axis=1, keys=headers)\n",
    "causas_mes_frequents = causas[causas > 0].count().sort_values(ascending=False).head(3)\n",
    "print(causas_mes_frequents)"
   ]
  },
  {
   "cell_type": "markdown",
   "id": "c0845850",
   "metadata": {},
   "source": [
    "## Exercici 3\n",
    "Exporta el data set net i amb les noves columnes a Excel."
   ]
  },
  {
   "cell_type": "code",
   "execution_count": 23,
   "id": "4c762df6",
   "metadata": {
    "scrolled": true
   },
   "outputs": [
    {
     "name": "stdout",
     "output_type": "stream",
     "text": [
      "0      Month DayOfWeek  ArrDelay  DepDelay  CarrierDelay  WeatherDelay  \\\n",
      "622088     4         4        10        17             0             0   \n",
      "454998     3         6        21        29            21             0   \n",
      "7587       1         1        13        24             0             0   \n",
      "508095     3         5        85        90             5             0   \n",
      "742722     5         5       168       189             5             0   \n",
      "773454     5         7        13        15             0             0   \n",
      "411874     3         1        98       104             3             0   \n",
      "452441     3         7        17         7             7             0   \n",
      "265143     2         3         2         7             0             0   \n",
      "736944     5         1        27        26             4             0   \n",
      "187869     2         2        -1        11             0             0   \n",
      "782129     5         1        49        47            47             0   \n",
      "17636      1         7        16        20            16             0   \n",
      "368690     2         6        29        34            29             0   \n",
      "522835     3         2        25        16             0             0   \n",
      "308449     2         1        91        73             0             5   \n",
      "325882     2         4        90        56             0             0   \n",
      "166694     1         5        50        56            50             0   \n",
      "152800     1         1       116       118            25             0   \n",
      "491305     3         4         0       128             0             0   \n",
      "337347     2         3        75        57             0             0   \n",
      "372599     2         3        98       118             0             0   \n",
      "784211     5         6        77        73             0             0   \n",
      "371102     2         3        37        36             9             0   \n",
      "19503      1         1       137       142            23             0   \n",
      "243463     2         4        47        57             0             0   \n",
      "245917     2         3         2        12             0             0   \n",
      "77249      1         3         4        19             0             0   \n",
      "39281      1         5        26        12             5             0   \n",
      "353506     2         3        11         9             0             0   \n",
      "610189     4         5        22        24            22             0   \n",
      "187177     2         2         7         8             0             0   \n",
      "316021     2         1         5         7             0             0   \n",
      "273120     2         2        43         6             0             0   \n",
      "573236     3         7        17        16             0             0   \n",
      "710972     4         5        39        41             7             0   \n",
      "334489     2         6        11         9             0             0   \n",
      "325676     2         2        29        36            29             0   \n",
      "362830     2         7        -3        13             0             0   \n",
      "480263     3         2       109       110           109             0   \n",
      "541788     3         3        27        15            13             0   \n",
      "8258       1         2        14        16             0             0   \n",
      "711852     4         4        -4         9             0             0   \n",
      "755222     5         3        40         8             0             0   \n",
      "491587     3         5       113       129             0             0   \n",
      "287914     2         4         9        15             0             0   \n",
      "682875     4         6        -6        10             0             0   \n",
      "523072     3         7         5        10             0             0   \n",
      "174916     1         5        60        28             0             0   \n",
      "150960     1         3        61        68            61             0   \n",
      "\n",
      "0       NASDelay  SecurityDelay  LateAircraftDelay Origin Dest  Distance  \\\n",
      "622088         0              0                  0    RDD  SFO     199.0   \n",
      "454998         0              0                  0    SFO  RNO     192.0   \n",
      "7587           0              0                  0    SEA  OAK     671.0   \n",
      "508095         0              0                 80    FWA  ORD     157.0   \n",
      "742722         0              0                163    PHL  STL     813.0   \n",
      "773454         0              0                  0    LGA  RIC     292.0   \n",
      "411874         0              0                 95    OAK  LAX     337.0   \n",
      "452441        10              0                  0    DEN  SAN     853.0   \n",
      "265143         0              0                  0    LAS  SFO     414.0   \n",
      "736944         1              0                 22    DAL  MAF     319.0   \n",
      "187869         0              0                  0    PHL  PVD     238.0   \n",
      "782129         2              0                  0    SFO  MOD      78.0   \n",
      "17636          0              0                  0    BWI  PVD     328.0   \n",
      "368690         0              0                  0    EWR  SAN    2425.0   \n",
      "522835         9              0                 16    DTW  TUL     790.0   \n",
      "308449        18              0                 68    ORD  CMI     135.0   \n",
      "325882        90              0                  0    DTW  RDU     501.0   \n",
      "166694         0              0                  0    FAI  ANC     261.0   \n",
      "152800         0              0                 91    MIA  DCA     920.0   \n",
      "491305         0              0                  0    BOS  RSW    1249.0   \n",
      "337347        18              0                 57    BWI  DFW    1217.0   \n",
      "372599         0              0                 98    MSY  LGA    1183.0   \n",
      "784211         4              0                 73    DEN  SBA     916.0   \n",
      "371102         1              0                 27    ATL  BHM     134.0   \n",
      "19503          0              0                114    SJC  PHX     621.0   \n",
      "243463         0              0                 47    SFO  SLC     599.0   \n",
      "245917         0              0                  0    SLC  MSO     436.0   \n",
      "77249          0              0                  0    ORD  SEA    1721.0   \n",
      "39281         14              0                  7    GSO  IAH     986.0   \n",
      "353506         0              0                  0    PDX  MCO    2534.0   \n",
      "610189         0              0                  0    ORD  CID     196.0   \n",
      "187177         0              0                  0    FLL  BNA     793.0   \n",
      "316021         0              0                  0    BNA  DCA     562.0   \n",
      "273120        37              0                  6    DCA  FLL     899.0   \n",
      "573236         1              0                 16    MIA  ATL     595.0   \n",
      "710972         0              0                 32    MSY  JFK    1182.0   \n",
      "334489         0              0                  0    LGA  ORD     733.0   \n",
      "325676         0              0                  0    MSP  DLH     144.0   \n",
      "362830         0              0                  0    LAS  EWR    2227.0   \n",
      "480263         0              0                  0    ATL  GNV     300.0   \n",
      "541788        12              0                  2    AUS  SJC    1476.0   \n",
      "8258           0              0                  0    MDW  RDU     632.0   \n",
      "711852         0              0                  0    BOS  RSW    1249.0   \n",
      "755222        40              0                  0    BHM  HOU     570.0   \n",
      "491587         0              0                113    ATL  STL     483.0   \n",
      "287914         0              0                  0    MOB  ATL     302.0   \n",
      "682875         0              0                  0    DFW  DTW     987.0   \n",
      "523072         0              0                  0    DAY  DTW     166.0   \n",
      "174916        60              0                  0    BOS  EWR     200.0   \n",
      "150960         0              0                  0    DFW  TUS     813.0   \n",
      "\n",
      "0       AirTime UniqueCarrier  TotalDelay  AverageSpeed  Delayed  \n",
      "622088       50            OO          27          3.98     True  \n",
      "454998       34            UA          71          5.65     True  \n",
      "7587         89            WN          37          7.54     True  \n",
      "508095       36            MQ         260          4.36     True  \n",
      "742722      125            WN         525          6.50     True  \n",
      "773454       60            OH          28          4.87     True  \n",
      "411874       55            WN         300          6.13     True  \n",
      "452441      133            UA          41          6.41     True  \n",
      "265143       68            UA           9          6.09     True  \n",
      "736944       56            WN          80          5.70     True  \n",
      "187869       46            WN          10          5.17     True  \n",
      "782129       23            OO         145          3.39     True  \n",
      "17636        50            WN          52          6.56     True  \n",
      "368690      338            CO          92          7.17     True  \n",
      "522835      127            9E          66          6.22     True  \n",
      "308449       31            MQ         255          4.35     True  \n",
      "325882       80            NW         236          6.26     True  \n",
      "166694       44            AS         156          5.93     True  \n",
      "152800      123            AA         350          7.48     True  \n",
      "491305        0            FL         128           inf     True  \n",
      "337347      192            AA         207          6.34     True  \n",
      "372599      141            DL         314          8.39     True  \n",
      "784211      141            OO         227          6.50     True  \n",
      "371102       28            DL         110          4.79     True  \n",
      "19503        87            WN         416          7.14     True  \n",
      "243463       82            OO         151          7.30     True  \n",
      "245917       64            OO          14          6.81     True  \n",
      "77249       237            UA          23          7.26     True  \n",
      "39281       176            XE          64          5.60     True  \n",
      "353506      303            AS          20          8.36     True  \n",
      "610189       35            YV          68          5.60     True  \n",
      "187177      115            WN          15          6.90     True  \n",
      "316021       76            MQ          12          7.39     True  \n",
      "273120      147            US          92          6.12     True  \n",
      "573236       96            DL          50          6.20     True  \n",
      "710972      155            B6         119          7.63     True  \n",
      "334489      129            AA          20          5.68     True  \n",
      "325676       28            NW          94          5.14     True  \n",
      "362830      255            CO          10          8.73     True  \n",
      "480263       64            EV         328          4.69     True  \n",
      "541788      220            AA          69          6.71     True  \n",
      "8258         89            WN          30          7.10     True  \n",
      "711852      176            B6           5          7.10     True  \n",
      "755222       86            WN          88          6.63     True  \n",
      "491587       65            FL         355          7.43     True  \n",
      "287914       45            EV          24          6.71     True  \n",
      "682875      118            NW           4          8.36     True  \n",
      "523072       39            9E          15          4.26     True  \n",
      "174916       57            CO         148          3.51     True  \n",
      "150960      118            AA         190          6.89     True  \n"
     ]
    }
   ],
   "source": [
    "print(df_seleccio)\n",
    "\n",
    "df_seleccio.to_excel('DelayedFlights_modificat.xlsx', sheet_name='Sheet1')"
   ]
  },
  {
   "cell_type": "code",
   "execution_count": null,
   "id": "c2b0c118",
   "metadata": {},
   "outputs": [],
   "source": []
  }
 ],
 "metadata": {
  "kernelspec": {
   "display_name": "Python 3 (ipykernel)",
   "language": "python",
   "name": "python3"
  },
  "language_info": {
   "codemirror_mode": {
    "name": "ipython",
    "version": 3
   },
   "file_extension": ".py",
   "mimetype": "text/x-python",
   "name": "python",
   "nbconvert_exporter": "python",
   "pygments_lexer": "ipython3",
   "version": "3.9.7"
  }
 },
 "nbformat": 4,
 "nbformat_minor": 5
}
